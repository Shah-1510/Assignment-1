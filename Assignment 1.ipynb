{
 "cells": [
  {
   "cell_type": "code",
   "execution_count": 1,
   "id": "34df332a",
   "metadata": {},
   "outputs": [
    {
     "name": "stdout",
     "output_type": "stream",
     "text": [
      "Twinkle, twinkle, little star,\n",
      "\tHow I wonder what you are!\n",
      "\t\tUp above the world so high,\n",
      "\t\tLike a diamond in the sky.\n",
      "Twinkle, twinkle, little star,\n",
      "\tHow I wonder what you are\n"
     ]
    }
   ],
   "source": [
    "#Q1: Write a Python program to print the following string in a specific format (see the output).\n",
    "# Twinkle, twinkle, little star,\n",
    "#      How I wonder what you are!\n",
    "#             Up above the world so high,\n",
    "#             Like a diamond in the sky.\n",
    "# Twinkle, twinkle, little star,\n",
    "# How I wonder what you are\n",
    "# ---------------------------------------------------------\n",
    "\n",
    "print(\"Twinkle, twinkle, little star,\\n\\tHow I wonder what you are!\\n\\t\\tUp above the world so high,\\n\\t\\tLike a diamond in the sky.\")\n",
    "print(\"Twinkle, twinkle, little star,\\n\\tHow I wonder what you are\")\n"
   ]
  },
  {
   "cell_type": "code",
   "execution_count": 2,
   "id": "1518c172",
   "metadata": {},
   "outputs": [
    {
     "name": "stdout",
     "output_type": "stream",
     "text": [
      "Python Version: \n",
      "3.8.8 (default, Apr 13 2021, 15:08:03) [MSC v.1916 64 bit (AMD64)]\n",
      "Python Version Information. :\n",
      "sys.version_info(major=3, minor=8, micro=8, releaselevel='final', serial=0)\n"
     ]
    }
   ],
   "source": [
    "# Q2: Write a Python program to get the Python version you are using\n",
    "# ---------------------------------------------------------\n",
    "\n",
    "import sys\n",
    "print(\"Python Version: \")\n",
    "print(sys.version)\n",
    "print(\"Python Version Information. :\")\n",
    "print(sys.version_info)\n"
   ]
  },
  {
   "cell_type": "code",
   "execution_count": 3,
   "id": "ddfad1fc",
   "metadata": {},
   "outputs": [
    {
     "name": "stdout",
     "output_type": "stream",
     "text": [
      "Current Date and Time is: \n",
      "2021-12-30 22:04:38\n"
     ]
    }
   ],
   "source": [
    "# Q3: Write a Python program to display the current date and time.\n",
    "# ---------------------------------------------------------\n",
    "\n",
    "import datetime\n",
    "current = datetime.datetime.now()\n",
    "print(\"Current Date and Time is: \")\n",
    "print(current.strftime(\"%Y-%m-%d %H:%M:%S\"))"
   ]
  },
  {
   "cell_type": "code",
   "execution_count": 4,
   "id": "e5a028cf",
   "metadata": {},
   "outputs": [
    {
     "name": "stdout",
     "output_type": "stream",
     "text": [
      "Please Enter Radius of circle: 15\n",
      "The Area of Circle with Radius 15.0 is: 706.8583470577034\n"
     ]
    }
   ],
   "source": [
    "# Q4: Write a Python program which accepts the radius of a circle from the user and compute the area.\n",
    "# ---------------------------------------------------------\n",
    "\n",
    "import math\n",
    "radius = float(input(\"Please Enter Radius of circle: \"))\n",
    "area = math.pi * radius**2\n",
    "print(\"The Area of Circle with Radius \"+str(radius)+ \" is: \"+str(area))\n"
   ]
  },
  {
   "cell_type": "code",
   "execution_count": 5,
   "id": "4bb82ca4",
   "metadata": {},
   "outputs": [
    {
     "name": "stdout",
     "output_type": "stream",
     "text": [
      "Please Enter your First Name: Syed Muhammad\n",
      "Please Enter your Last Name: Shoaib\n",
      "Shoaib Syed Muhammad\n",
      "\n",
      "Please Enter your First Name:Syed Muhammad\n",
      "Please Enter your Last Name: Shoaib\n",
      "dammahuM deyS biaohS\n"
     ]
    }
   ],
   "source": [
    "# Q5: Write a Python program which accepts the user's first and last name and print them in reverse order with a space\n",
    "#     between them.\n",
    "# ---------------------------------------------------------\n",
    "\n",
    "fname = input(\"Please Enter your First Name: \")\n",
    "lname = input(\"Please Enter your Last Name: \")\n",
    "print(lname+\" \"+fname)\n",
    "#           OR\n",
    "firstname = input(\"\\nPlease Enter your First Name:\")\n",
    "lastname = input(\"Please Enter your Last Name: \")\n",
    "print(firstname[::-1] + \" \" + lastname[::-1])"
   ]
  },
  {
   "cell_type": "code",
   "execution_count": 6,
   "id": "d278f48d",
   "metadata": {},
   "outputs": [
    {
     "name": "stdout",
     "output_type": "stream",
     "text": [
      "Please Enter 1st Number: 10\n",
      "Please Enter 2nd Number: 15\n",
      "Addition of two Number Is:  25\n"
     ]
    }
   ],
   "source": [
    "# Q6: Write a python program which takes two inputs from user and print them addition\n",
    "# ---------------------------------------------------------\n",
    "\n",
    "in1 = int(input(\"Please Enter 1st Number: \"))\n",
    "in2 = int(input(\"Please Enter 2nd Number: \"))\n",
    "add = in1 + in2\n",
    "print(\"Addition of two Number Is: \",add)"
   ]
  },
  {
   "cell_type": "code",
   "execution_count": null,
   "id": "33a193fd",
   "metadata": {},
   "outputs": [],
   "source": []
  }
 ],
 "metadata": {
  "kernelspec": {
   "display_name": "Python 3",
   "language": "python",
   "name": "python3"
  },
  "language_info": {
   "codemirror_mode": {
    "name": "ipython",
    "version": 3
   },
   "file_extension": ".py",
   "mimetype": "text/x-python",
   "name": "python",
   "nbconvert_exporter": "python",
   "pygments_lexer": "ipython3",
   "version": "3.8.8"
  }
 },
 "nbformat": 4,
 "nbformat_minor": 5
}
